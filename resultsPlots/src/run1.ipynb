{
 "cells": [
  {
   "cell_type": "code",
   "execution_count": 16,
   "metadata": {},
   "outputs": [],
   "source": [
    "import numpy as np\n",
    "import scipy.stats as ss\n",
    "import pandas as pd\n",
    "import matplotlib.pyplot as plt\n",
    "import seaborn as sns\n",
    "from scipy import stats\n",
    "import tensorflow as tf\n",
    "import tensorflow.experimental.numpy as tnp\n",
    "import tensorflow_probability as tfp\n",
    "import scipy.special\n",
    "\n",
    "tfd = tfp.distributions\n",
    "np.random.seed(0)\n",
    "\n",
    "from LSM_tensorflow import *"
   ]
  },
  {
   "cell_type": "code",
   "execution_count": 17,
   "metadata": {},
   "outputs": [],
   "source": [
    "job_name = 1"
   ]
  },
  {
   "cell_type": "code",
   "execution_count": 18,
   "metadata": {},
   "outputs": [
    {
     "name": "stdout",
     "output_type": "stream",
     "text": [
      "200000 360 0.6 0.7499999999999999\n"
     ]
    }
   ],
   "source": [
    "S0 = 27479.363\n",
    "sigma = .1797\n",
    "_lambda = 11.9488\n",
    "\n",
    "eta1 = 1/0.074\n",
    "eta2 = 1/0.0608\n",
    "p = .3316\n",
    "r = 0.01\n",
    "d = 0.2\n",
    "\n",
    "n = 200_000 # sample size\n",
    "m = 360 # sample length\n",
    "T = 1 #years\n",
    "\n",
    "LTV0 = 0.6\n",
    "LTVH = 0.8\n",
    "liquidation_penalty = 0.95\n",
    "\n",
    "degree = 2\n",
    "seed = 0\n",
    "print(n, m, LTV0, LTV0/LTVH)"
   ]
  },
  {
   "cell_type": "code",
   "execution_count": 19,
   "metadata": {},
   "outputs": [
    {
     "name": "stdout",
     "output_type": "stream",
     "text": [
      "0.9 [-0.1  -0.05  0.    0.05  0.1   0.15  0.2   0.25  0.3   0.35  0.4   0.45\n",
      "  0.5   0.55  0.6   0.65  0.7   0.75  0.8 ] [0.1  0.15 0.2  0.25 0.3  0.35 0.4  0.45 0.5  0.55 0.6  0.65 0.7  0.75\n",
      " 0.8  0.85] [ 10  20  30  40  50  60  70  80  90 100 110 120 130 140 150 160 170 180\n",
      " 190 200 210 220 230 240 250 260 270 280 290 300 310 320 330 340 350 360]\n"
     ]
    }
   ],
   "source": [
    "LTVH = 0.9\n",
    "\n",
    "start = -0.1\n",
    "stop  = 0.8\n",
    "step  = .05\n",
    "all_d_arr = np.arange(start, stop+step, step)\n",
    "\n",
    "start = 0.1\n",
    "stop  = 0.8\n",
    "step  = .05\n",
    "LTV0_arr = np.arange(start, stop+step, step)\n",
    "\n",
    "start = 10\n",
    "stop  = m\n",
    "step  = 10\n",
    "slice_id_arr = np.arange(start, stop+step, step)\n",
    "\n",
    "print(LTVH, all_d_arr, LTV0_arr, slice_id_arr)"
   ]
  },
  {
   "cell_type": "code",
   "execution_count": 20,
   "metadata": {},
   "outputs": [
    {
     "data": {
      "text/plain": [
       "(array([-0.1 , -0.05,  0.  ,  0.05,  0.1 ,  0.15,  0.2 ]),\n",
       " array([0.25, 0.3 , 0.35, 0.4 , 0.45, 0.5 , 0.55]),\n",
       " array([0.6 , 0.65, 0.7 , 0.75, 0.8 ]))"
      ]
     },
     "execution_count": 20,
     "metadata": {},
     "output_type": "execute_result"
    }
   ],
   "source": [
    "job1 = all_d_arr[:7]\n",
    "job2 = all_d_arr[7:14]\n",
    "job3 = all_d_arr[14:]\n",
    "job1, job2, job3"
   ]
  },
  {
   "cell_type": "code",
   "execution_count": 29,
   "metadata": {},
   "outputs": [],
   "source": [
    "results_filename = 'results%i.pickle'%job_name\n",
    "payoffs_filename = 'payoffs%i.pickle'%job_name\n",
    "if job_name == 1:\n",
    "    d_arr = job1\n",
    "elif job_name == 2:\n",
    "    d_arr = job2\n",
    "else:\n",
    "    d_arr = job3\n"
   ]
  },
  {
   "cell_type": "code",
   "execution_count": 27,
   "metadata": {},
   "outputs": [],
   "source": [
    "import pickle\n",
    "\n",
    "# with open(r\"all_results.pickle\", \"rb\") as input_file:\n",
    "#     all_results = pickle.load(input_file)\n",
    "all_results = []\n",
    "payoffs_results = []\n"
   ]
  },
  {
   "cell_type": "code",
   "execution_count": 28,
   "metadata": {},
   "outputs": [],
   "source": [
    "finished_jobs = []\n",
    "\n",
    "for a in all_results:\n",
    "    finished_jobs.append((a[0],a[1],a[2]))"
   ]
  },
  {
   "cell_type": "code",
   "execution_count": 30,
   "metadata": {},
   "outputs": [
    {
     "name": "stdout",
     "output_type": "stream",
     "text": [
      "[-0.1  -0.05  0.    0.05  0.1   0.15  0.2 ]\n"
     ]
    }
   ],
   "source": [
    "print(d_arr)"
   ]
  },
  {
   "cell_type": "code",
   "execution_count": 8,
   "metadata": {},
   "outputs": [
    {
     "name": "stdout",
     "output_type": "stream",
     "text": [
      "Price paths (price_t) and running minimums (path_mins) are generated.\n",
      "-0.10 0.10 10\n",
      "-0.10 0.10 20\n",
      "-0.10 0.10 30\n",
      "-0.10 0.10 40\n",
      "-0.10 0.10 50\n",
      "-0.10 0.10 60\n",
      "-0.10 0.10 70\n",
      "-0.10 0.10 80\n",
      "-0.10 0.10 90\n",
      "-0.10 0.10 100\n",
      "-0.10 0.10 110\n",
      "-0.10 0.10 120\n",
      "-0.10 0.10 130\n",
      "-0.10 0.10 140\n",
      "-0.10 0.10 150\n",
      "-0.10 0.10 160\n",
      "-0.10 0.10 170\n",
      "-0.10 0.10 180\n",
      "-0.10 0.10 190\n",
      "-0.10 0.10 200\n",
      "-0.10 0.10 210\n",
      "-0.10 0.10 220\n",
      "-0.10 0.10 230\n",
      "-0.10 0.10 240\n",
      "-0.10 0.10 250\n",
      "-0.10 0.10 260\n",
      "-0.10 0.10 270\n",
      "-0.10 0.10 280\n",
      "-0.10 0.10 290\n",
      "-0.10 0.10 300\n",
      "-0.10 0.10 310\n",
      "-0.10 0.10 320\n",
      "-0.10 0.10 330\n",
      "-0.10 0.10 340\n",
      "-0.10 0.10 350\n",
      "-0.10 0.10 360\n",
      "saved\n",
      "-0.10 0.15 10\n",
      "-0.10 0.15 20\n",
      "-0.10 0.15 30\n",
      "-0.10 0.15 40\n",
      "-0.10 0.15 50\n",
      "-0.10 0.15 60\n",
      "-0.10 0.15 70\n",
      "-0.10 0.15 80\n",
      "-0.10 0.15 90\n",
      "-0.10 0.15 100\n",
      "-0.10 0.15 110\n",
      "-0.10 0.15 120\n",
      "-0.10 0.15 130\n",
      "-0.10 0.15 140\n",
      "-0.10 0.15 150\n",
      "-0.10 0.15 160\n",
      "-0.10 0.15 170\n",
      "-0.10 0.15 180\n",
      "-0.10 0.15 190\n",
      "-0.10 0.15 200\n",
      "-0.10 0.15 210\n",
      "-0.10 0.15 220\n",
      "-0.10 0.15 230\n",
      "-0.10 0.15 240\n",
      "-0.10 0.15 250\n",
      "-0.10 0.15 260\n",
      "-0.10 0.15 270\n",
      "-0.10 0.15 280\n",
      "-0.10 0.15 290\n",
      "-0.10 0.15 300\n",
      "-0.10 0.15 310\n",
      "-0.10 0.15 320\n",
      "-0.10 0.15 330\n",
      "-0.10 0.15 340\n",
      "-0.10 0.15 350\n",
      "-0.10 0.15 360\n",
      "saved\n",
      "-0.10 0.20 10\n",
      "-0.10 0.20 20\n",
      "-0.10 0.20 30\n",
      "-0.10 0.20 40\n",
      "-0.10 0.20 50\n",
      "-0.10 0.20 60\n",
      "-0.10 0.20 70\n",
      "-0.10 0.20 80\n",
      "-0.10 0.20 90\n",
      "-0.10 0.20 100\n",
      "-0.10 0.20 110\n",
      "-0.10 0.20 120\n",
      "-0.10 0.20 130\n",
      "-0.10 0.20 140\n",
      "-0.10 0.20 150\n",
      "-0.10 0.20 160\n",
      "-0.10 0.20 170\n",
      "-0.10 0.20 180\n",
      "-0.10 0.20 190\n",
      "-0.10 0.20 200\n",
      "-0.10 0.20 210\n",
      "-0.10 0.20 220\n",
      "-0.10 0.20 230\n",
      "-0.10 0.20 240\n",
      "-0.10 0.20 250\n",
      "-0.10 0.20 260\n",
      "-0.10 0.20 270\n",
      "-0.10 0.20 280\n",
      "-0.10 0.20 290\n",
      "-0.10 0.20 300\n",
      "-0.10 0.20 310\n",
      "-0.10 0.20 320\n",
      "-0.10 0.20 330\n",
      "-0.10 0.20 340\n",
      "-0.10 0.20 350\n",
      "-0.10 0.20 360\n",
      "saved\n",
      "-0.10 0.25 10\n",
      "-0.10 0.25 20\n",
      "-0.10 0.25 30\n",
      "-0.10 0.25 40\n",
      "-0.10 0.25 50\n",
      "-0.10 0.25 60\n",
      "-0.10 0.25 70\n",
      "-0.10 0.25 80\n",
      "-0.10 0.25 90\n",
      "-0.10 0.25 100\n",
      "-0.10 0.25 110\n",
      "-0.10 0.25 120\n",
      "-0.10 0.25 130\n",
      "-0.10 0.25 140\n",
      "-0.10 0.25 150\n",
      "-0.10 0.25 160\n",
      "-0.10 0.25 170\n",
      "-0.10 0.25 180\n",
      "-0.10 0.25 190\n",
      "-0.10 0.25 200\n",
      "-0.10 0.25 210\n",
      "-0.10 0.25 220\n",
      "-0.10 0.25 230\n",
      "-0.10 0.25 240\n",
      "-0.10 0.25 250\n",
      "-0.10 0.25 260\n",
      "-0.10 0.25 270\n",
      "-0.10 0.25 280\n",
      "-0.10 0.25 290\n",
      "-0.10 0.25 300\n",
      "-0.10 0.25 310\n"
     ]
    }
   ],
   "source": [
    "_Kou_model_params = Kou_model_params(S0, sigma, _lambda, eta1, eta2, p, r, T)\n",
    "\n",
    "for d in d_arr:\n",
    "    _price_paths_simulation = price_paths_simulation(seed, n, m, _Kou_model_params, d)\n",
    "    _contract_params =  contract_params(_price_paths_simulation.d, LTV0, LTVH, _Kou_model_params, liquidation_penalty)\n",
    "    _price_paths_simulation.gen_price_paths()\n",
    "\n",
    "    for LTV0 in LTV0_arr:\n",
    "        _contract_params_job = contract_params(_price_paths_simulation.d, LTV0, LTVH, _Kou_model_params, _contract_params.liquidation_penalty)\n",
    "\n",
    "        payoffs, healthy_mask = gen_payoffs_and_healthy_mask(_contract_params_job, _price_paths_simulation.price_t,\n",
    "                                                            _price_paths_simulation.path_mins)\n",
    "        \n",
    "        payoffs_results.append([d, LTV0, payoffs, healthy_mask])\n",
    "        \n",
    "        with open(payoffs_filename, 'wb') as handle:\n",
    "            pickle.dump(payoffs_results, handle)\n",
    "\n",
    "        _LSM_regression = LSM_regression(_price_paths_simulation, \n",
    "                                        payoffs,\n",
    "                                        _price_paths_simulation.price_t, \n",
    "                                        healthy_mask, degree, _contract_params)\n",
    "\n",
    "        for slice_id in slice_id_arr:\n",
    "            if (d, LTV0, slice_id) in finished_jobs:\n",
    "                continue\n",
    "            try:\n",
    "                _LSM_regression.run_regression(slice_id, 1, False)\n",
    "                \n",
    "                _mean = _LSM_regression.A.mean()\n",
    "                _var  = _LSM_regression.A.var()\n",
    "                \n",
    "                all_results.append([d, LTV0,  slice_id, _mean, _var])\n",
    "            except:\n",
    "                all_results.append([d, LTV0,  slice_id, 'error', 'error'])\n",
    "                \n",
    "            print('%.2f %.2f %i'%(d, LTV0,  slice_id))\n",
    "            \n",
    "        with open('results_filename.pickle', 'wb') as handle:\n",
    "            pickle.dump(all_results, handle)\n",
    "            print('saved')"
   ]
  }
 ],
 "metadata": {
  "kernelspec": {
   "display_name": "Python 3",
   "language": "python",
   "name": "python3"
  },
  "language_info": {
   "codemirror_mode": {
    "name": "ipython",
    "version": 3
   },
   "file_extension": ".py",
   "mimetype": "text/x-python",
   "name": "python",
   "nbconvert_exporter": "python",
   "pygments_lexer": "ipython3",
   "version": "3.10.12"
  }
 },
 "nbformat": 4,
 "nbformat_minor": 2
}
